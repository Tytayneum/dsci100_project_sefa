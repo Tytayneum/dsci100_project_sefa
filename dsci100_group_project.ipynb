{
 "cells": [
  {
   "cell_type": "markdown",
   "id": "126f192b-a0ff-4c7b-a84b-54b53aa232ae",
   "metadata": {},
   "source": [
    "Hello everyone!!"
   ]
  },
  {
   "cell_type": "code",
   "execution_count": null,
   "id": "b2b0718c-4d02-4ca9-96bb-346663fb00c6",
   "metadata": {},
   "outputs": [],
   "source": []
  }
 ],
 "metadata": {
  "kernelspec": {
   "display_name": "R",
   "language": "R",
   "name": "ir"
  },
  "language_info": {
   "codemirror_mode": "r",
   "file_extension": ".r",
   "mimetype": "text/x-r-source",
   "name": "R",
   "pygments_lexer": "r",
   "version": "4.3.3"
  }
 },
 "nbformat": 4,
 "nbformat_minor": 5
}
