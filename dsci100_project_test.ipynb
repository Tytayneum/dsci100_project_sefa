{
 "cells": [
  {
   "cell_type": "markdown",
   "id": "b49357af-5353-48e8-ba82-9db669ad3c63",
   "metadata": {},
   "source": [
    "testing this notebook"
   ]
  },
  {
   "cell_type": "code",
   "execution_count": null,
   "id": "39c4877a-0e0c-4a57-b14e-d94194e46671",
   "metadata": {},
   "outputs": [],
   "source": []
  }
 ],
 "metadata": {
  "kernelspec": {
   "display_name": "R",
   "language": "R",
   "name": "ir"
  },
  "language_info": {
   "codemirror_mode": "r",
   "file_extension": ".r",
   "mimetype": "text/x-r-source",
   "name": "R",
   "pygments_lexer": "r",
   "version": "4.3.3"
  }
 },
 "nbformat": 4,
 "nbformat_minor": 5
}
