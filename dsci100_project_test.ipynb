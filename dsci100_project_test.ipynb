{
 "cells": [
  {
   "cell_type": "markdown",
   "id": "b49357af-5353-48e8-ba82-9db669ad3c63",
   "metadata": {},
   "source": [
    "Individual Planning Report"
   ]
  },
  {
   "cell_type": "markdown",
   "id": "3e7286bf-a01d-4698-9833-5872bb16cc11",
   "metadata": {},
   "source": [
    "(1) Data Description"
   ]
  },
  {
   "cell_type": "markdown",
   "id": "ef304731-4f87-47f6-88cb-f421a10ecafa",
   "metadata": {},
   "source": [
    "The players.csv dataset has many variables about what types of people are playing Plaicraft. There are 196 observations in total, since there are 197 rows, but the first row includes the column names.\n",
    "\n",
    "The different variables include:\n",
    "\n",
    "* experience (experience level of player)\n",
    "\n",
    "* subscribe (whether the player subscribed to the newsletter)\n",
    "\n",
    "* hashedEmail (encrypted email) *played_hours (number of hours played by the player)\n",
    "\n",
    "* gender (chr - male, female etc) *age (players age).\n",
    "\n",
    "The rest of the variables do not have any data under them.\n",
    "\n",
    "These present issues in the data because when read in Jupyter, it will show up as \"NA\" for those columns."
   ]
  },
  {
   "cell_type": "markdown",
   "id": "815d1728-88a5-4002-b4bb-0b6ab9887715",
   "metadata": {},
   "source": [
    "(2) Question"
   ]
  },
  {
   "cell_type": "markdown",
   "id": "f04a1ba9-92fb-41e9-8421-bc8e26fcd5d9",
   "metadata": {},
   "source": [
    "Can we predict the persons experience level based off their number of played hours?"
   ]
  },
  {
   "cell_type": "markdown",
   "id": "e33f6936-3078-4ee3-8bbd-ea60dd649b1d",
   "metadata": {},
   "source": [
    "XXXXX"
   ]
  },
  {
   "cell_type": "markdown",
   "id": "e4838957-c543-46fb-99df-a6406015cf83",
   "metadata": {},
   "source": [
    "(3) Exploratory Data Analysis and Visualization"
   ]
  },
  {
   "cell_type": "markdown",
   "id": "30c49939-2cd8-419e-9e21-0001efc30511",
   "metadata": {},
   "source": [
    "XXXXXX"
   ]
  }
 ],
 "metadata": {
  "kernelspec": {
   "display_name": "R",
   "language": "R",
   "name": "ir"
  },
  "language_info": {
   "codemirror_mode": "r",
   "file_extension": ".r",
   "mimetype": "text/x-r-source",
   "name": "R",
   "pygments_lexer": "r",
   "version": "4.3.3"
  }
 },
 "nbformat": 4,
 "nbformat_minor": 5
}
